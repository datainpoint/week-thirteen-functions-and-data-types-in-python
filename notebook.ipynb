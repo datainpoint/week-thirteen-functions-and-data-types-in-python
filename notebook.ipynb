{
 "cells": [
  {
   "cell_type": "code",
   "execution_count": 1,
   "id": "hawaiian-joyce",
   "metadata": {},
   "outputs": [
    {
     "name": "stdout",
     "output_type": "stream",
     "text": [
      "Hello, World!\n"
     ]
    }
   ],
   "source": [
    "def hello_world():\n",
    "    return \"Hello, World!\"\n",
    "print(hello_world())"
   ]
  },
  {
   "cell_type": "code",
   "execution_count": 2,
   "id": "seasonal-theorem",
   "metadata": {},
   "outputs": [
    {
     "name": "stdout",
     "output_type": "stream",
     "text": [
      "Hello, World!\n",
      "<class 'str'>\n"
     ]
    }
   ],
   "source": [
    "a_string = \"Hello, World!\"\n",
    "print(a_string)\n",
    "print(type(a_string))"
   ]
  },
  {
   "cell_type": "code",
   "execution_count": 3,
   "id": "trying-robin",
   "metadata": {},
   "outputs": [
    {
     "name": "stdout",
     "output_type": "stream",
     "text": [
      "<class 'int'>\n",
      "<class 'float'>\n",
      "<class 'str'>\n",
      "<class 'bool'>\n",
      "<class 'bool'>\n",
      "<class 'NoneType'>\n"
     ]
    }
   ],
   "source": [
    "an_integer = 87\n",
    "a_float = 8.7\n",
    "a_string = \"Hello, World!\"\n",
    "bool_true = True\n",
    "bool_false = False\n",
    "none_type = None\n",
    "\n",
    "print(type(an_integer))\n",
    "print(type(a_float))\n",
    "print(type(a_string))\n",
    "print(type(bool_true))\n",
    "print(type(bool_false))\n",
    "print(type(none_type))"
   ]
  },
  {
   "cell_type": "code",
   "execution_count": 4,
   "id": "physical-palestinian",
   "metadata": {},
   "outputs": [
    {
     "name": "stdout",
     "output_type": "stream",
     "text": [
      "0.0\n",
      "100.0\n"
     ]
    }
   ],
   "source": [
    "def fahrenheit_to_celsius(x):\n",
    "    out = (x - 32) * 5/9\n",
    "    return out\n",
    "print(fahrenheit_to_celsius(32))\n",
    "print(fahrenheit_to_celsius(212))"
   ]
  },
  {
   "cell_type": "code",
   "execution_count": 5,
   "id": "approximate-serve",
   "metadata": {},
   "outputs": [
    {
     "ename": "SyntaxError",
     "evalue": "invalid syntax (<ipython-input-5-133807805920>, line 1)",
     "output_type": "error",
     "traceback": [
      "\u001b[0;36m  File \u001b[0;32m\"<ipython-input-5-133807805920>\"\u001b[0;36m, line \u001b[0;32m1\u001b[0m\n\u001b[0;31m    mcd = 'I'm lovin' it'\u001b[0m\n\u001b[0m             ^\u001b[0m\n\u001b[0;31mSyntaxError\u001b[0m\u001b[0;31m:\u001b[0m invalid syntax\n"
     ]
    }
   ],
   "source": [
    "mcd = 'I'm lovin' it'"
   ]
  },
  {
   "cell_type": "code",
   "execution_count": 6,
   "id": "forced-minister",
   "metadata": {},
   "outputs": [
    {
     "name": "stdout",
     "output_type": "stream",
     "text": [
      "Help on function fahrenheit_to_celsius in module __main__:\n",
      "\n",
      "fahrenheit_to_celsius(x)\n",
      "    Return the Fahrenheit degree from a Celsius degree.\n",
      "\n"
     ]
    }
   ],
   "source": [
    "def fahrenheit_to_celsius(x):\n",
    "    \"\"\"\n",
    "    Return the Fahrenheit degree from a Celsius degree.\n",
    "    \"\"\"\n",
    "    out = (x - 32) * 5/9\n",
    "    return out\n",
    "help(fahrenheit_to_celsius)"
   ]
  },
  {
   "cell_type": "code",
   "execution_count": 7,
   "id": "subject-senator",
   "metadata": {},
   "outputs": [
    {
     "name": "stdout",
     "output_type": "stream",
     "text": [
      "Hello, Luke!\n",
      "Hello, Anakin!\n"
     ]
    }
   ],
   "source": [
    "def hello_anyone(anyone):\n",
    "    out = \"Hello, {}!\".format(anyone)\n",
    "    # out = f\"Hello, {anyone}!\"\n",
    "    return out\n",
    "print(hello_anyone(\"Luke\"))\n",
    "print(hello_anyone(\"Anakin\"))"
   ]
  },
  {
   "cell_type": "code",
   "execution_count": 8,
   "id": "legendary-listing",
   "metadata": {},
   "outputs": [
    {
     "name": "stdout",
     "output_type": "stream",
     "text": [
      "32.0 degrees celsius is equal to 0.0 degrees fahrenheit\n",
      "212.0 degrees celsius is equal to 100.0 degrees fahrenheit\n",
      "A Big Mac costs 5.65 USD in US.\n",
      "A Big Mac costs 6,520.00 Won in South Korea.\n"
     ]
    }
   ],
   "source": [
    "def fahrenheit_to_celsius(x):\n",
    "    \"\"\"\n",
    "    Return the Fahrenheit degree from a Celsius degree.\n",
    "    \"\"\"\n",
    "    out = (x - 32) * 5/9\n",
    "    msg = \"{:.1f} degrees celsius is equal to {:.1f} degrees fahrenheit\".format(x, out)\n",
    "    return msg\n",
    "\n",
    "def big_mac_index(country, currency, price):\n",
    "    msg = f\"A Big Mac costs {price:,.2f} {currency} in {country}.\"\n",
    "    return msg\n",
    "\n",
    "print(fahrenheit_to_celsius(32))\n",
    "print(fahrenheit_to_celsius(212))\n",
    "print(big_mac_index('US', 'USD', 5.65))\n",
    "print(big_mac_index('South Korea', 'Won', 6520))"
   ]
  },
  {
   "cell_type": "code",
   "execution_count": 9,
   "id": "military-royal",
   "metadata": {},
   "outputs": [
    {
     "name": "stdout",
     "output_type": "stream",
     "text": [
      "5566\n",
      "55665566556655665566\n"
     ]
    }
   ],
   "source": [
    "def concatenate_strings(x, y):\n",
    "    \"\"\"\n",
    "    Return the concatenation of strings x and y.\n",
    "    \"\"\"\n",
    "    return x + y\n",
    "def duplicate_strings(x, n):\n",
    "    \"\"\"\n",
    "    Return n duplicates of string x.\n",
    "    \"\"\"\n",
    "    return x*n\n",
    "\n",
    "print(concatenate_strings(\"55\", \"66\"))\n",
    "print(duplicate_strings(\"5566\", 5))"
   ]
  },
  {
   "cell_type": "code",
   "execution_count": 10,
   "id": "derived-knitting",
   "metadata": {},
   "outputs": [
    {
     "name": "stdout",
     "output_type": "stream",
     "text": [
      "<class 'bool'>\n",
      "<class 'bool'>\n"
     ]
    },
    {
     "ename": "NameError",
     "evalue": "name 'true' is not defined",
     "output_type": "error",
     "traceback": [
      "\u001b[0;31m---------------------------------------------------------------------------\u001b[0m",
      "\u001b[0;31mNameError\u001b[0m                                 Traceback (most recent call last)",
      "\u001b[0;32m<ipython-input-10-a3d9992bdec1>\u001b[0m in \u001b[0;36m<module>\u001b[0;34m\u001b[0m\n\u001b[1;32m      4\u001b[0m \u001b[0;34m\u001b[0m\u001b[0m\n\u001b[1;32m      5\u001b[0m \u001b[0;31m# Recognize as object names, hence NameError will occur\u001b[0m\u001b[0;34m\u001b[0m\u001b[0;34m\u001b[0m\u001b[0;34m\u001b[0m\u001b[0m\n\u001b[0;32m----> 6\u001b[0;31m \u001b[0mprint\u001b[0m\u001b[0;34m(\u001b[0m\u001b[0mtype\u001b[0m\u001b[0;34m(\u001b[0m\u001b[0mtrue\u001b[0m\u001b[0;34m)\u001b[0m\u001b[0;34m)\u001b[0m\u001b[0;34m\u001b[0m\u001b[0;34m\u001b[0m\u001b[0m\n\u001b[0m\u001b[1;32m      7\u001b[0m \u001b[0;31m#print(type(TRUE))\u001b[0m\u001b[0;34m\u001b[0m\u001b[0;34m\u001b[0m\u001b[0;34m\u001b[0m\u001b[0m\n\u001b[1;32m      8\u001b[0m \u001b[0;31m#print(type(false))\u001b[0m\u001b[0;34m\u001b[0m\u001b[0;34m\u001b[0m\u001b[0;34m\u001b[0m\u001b[0m\n",
      "\u001b[0;31mNameError\u001b[0m: name 'true' is not defined"
     ]
    }
   ],
   "source": [
    "# Recognize as booleans\n",
    "print(type(True))\n",
    "print(type(False))\n",
    "\n",
    "# Recognize as object names, hence NameError will occur\n",
    "print(type(true))\n",
    "#print(type(TRUE))\n",
    "#print(type(false))\n",
    "#print(type(FALSE))"
   ]
  },
  {
   "cell_type": "code",
   "execution_count": 11,
   "id": "isolated-display",
   "metadata": {},
   "outputs": [
    {
     "name": "stdout",
     "output_type": "stream",
     "text": [
      "False\n",
      "True\n",
      "False\n",
      "False\n",
      "True\n",
      "True\n",
      "True\n",
      "False\n",
      "False\n",
      "True\n",
      "False\n",
      "True\n"
     ]
    }
   ],
   "source": [
    "x = 55\n",
    "y = 66\n",
    "a_string = \"Hello, World!\"\n",
    "\n",
    "print(x == y)\n",
    "print(x != y)\n",
    "print(x > y)\n",
    "print(x >= y)\n",
    "print(x < y)\n",
    "print(x <= y)\n",
    "print(\"H\" in a_string)\n",
    "print(\"I\" in a_string)\n",
    "print(True and False)\n",
    "print(True or False)\n",
    "print(not True)\n",
    "print(not False)"
   ]
  },
  {
   "cell_type": "code",
   "execution_count": 12,
   "id": "fifty-tomato",
   "metadata": {},
   "outputs": [
    {
     "name": "stdout",
     "output_type": "stream",
     "text": [
      "Hello, World!\n",
      "None\n",
      "<class 'NoneType'>\n"
     ]
    }
   ],
   "source": [
    "def hello_world():\n",
    "    print(\"Hello, World!\")\n",
    "functions_output = hello_world()\n",
    "print(functions_output)\n",
    "print(type(functions_output))"
   ]
  },
  {
   "cell_type": "code",
   "execution_count": 13,
   "id": "premier-setup",
   "metadata": {},
   "outputs": [
    {
     "name": "stdout",
     "output_type": "stream",
     "text": [
      "True\n",
      "False\n",
      "True\n",
      "False\n",
      "True\n",
      "False\n",
      "True\n",
      "False\n",
      "True\n",
      "False\n"
     ]
    }
   ],
   "source": [
    "# Check if function input is an int\n",
    "print(isinstance(5566, int))\n",
    "print(isinstance(\"5566\", int))\n",
    "\n",
    "# Check if function input is a float\n",
    "print(isinstance(5566.0, float))\n",
    "print(isinstance(5566, float))\n",
    "\n",
    "# Check if function input is a str\n",
    "print(isinstance(\"True\", str))\n",
    "print(isinstance(True, str))\n",
    "\n",
    "# Check if function input is a bool\n",
    "print(isinstance(False, bool))\n",
    "print(isinstance(\"False\", bool))\n",
    "\n",
    "# Check if function input is a NoneType\n",
    "print(isinstance(None, type(None)))\n",
    "print(isinstance(\"None\", type(None)))"
   ]
  },
  {
   "cell_type": "code",
   "execution_count": 14,
   "id": "scenic-payday",
   "metadata": {},
   "outputs": [
    {
     "name": "stdout",
     "output_type": "stream",
     "text": [
      "5566\n",
      "1\n",
      "0\n",
      "5566\n"
     ]
    }
   ],
   "source": [
    "print(int(5566.0))\n",
    "print(int(True))\n",
    "print(int(False))\n",
    "print(int(\"5566\"))"
   ]
  },
  {
   "cell_type": "code",
   "execution_count": 15,
   "id": "motivated-measurement",
   "metadata": {},
   "outputs": [
    {
     "name": "stdout",
     "output_type": "stream",
     "text": [
      "5566.0\n",
      "1.0\n",
      "0.0\n",
      "5566.0\n"
     ]
    }
   ],
   "source": [
    "print(float(5566))\n",
    "print(float(True))\n",
    "print(float(False))\n",
    "print(float(\"5566\"))"
   ]
  },
  {
   "cell_type": "code",
   "execution_count": 16,
   "id": "waiting-paintball",
   "metadata": {},
   "outputs": [
    {
     "name": "stdout",
     "output_type": "stream",
     "text": [
      "False\n",
      "False\n",
      "True\n",
      "True\n",
      "True\n",
      "True\n",
      "True\n",
      "True\n",
      "True\n",
      "True\n",
      "True\n",
      "True\n"
     ]
    }
   ],
   "source": [
    "print(bool(0))\n",
    "print(bool(0.0))\n",
    "print(bool(1))\n",
    "print(bool(1.0))\n",
    "print(bool(5566.0))\n",
    "print(bool(-5566.0))\n",
    "print(bool(\"True\"))\n",
    "print(bool(\"TRUE\"))\n",
    "print(bool(\"true\"))\n",
    "print(bool(\"False\"))\n",
    "print(bool(\"FALSE\"))\n",
    "print(bool(\"false\"))"
   ]
  },
  {
   "cell_type": "code",
   "execution_count": 17,
   "id": "beneficial-portugal",
   "metadata": {},
   "outputs": [
    {
     "name": "stdout",
     "output_type": "stream",
     "text": [
      "5566\n",
      "5566.0\n",
      "True\n",
      "False\n"
     ]
    }
   ],
   "source": [
    "print(str(5566))\n",
    "print(str(5566.0))\n",
    "print(str(True))\n",
    "print(str(False))"
   ]
  }
 ],
 "metadata": {
  "kernelspec": {
   "display_name": "Python 3",
   "language": "python",
   "name": "python3"
  },
  "language_info": {
   "codemirror_mode": {
    "name": "ipython",
    "version": 3
   },
   "file_extension": ".py",
   "mimetype": "text/x-python",
   "name": "python",
   "nbconvert_exporter": "python",
   "pygments_lexer": "ipython3",
   "version": "3.8.5"
  }
 },
 "nbformat": 4,
 "nbformat_minor": 5
}
