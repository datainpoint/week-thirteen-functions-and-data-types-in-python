{
 "cells": [
  {
   "cell_type": "markdown",
   "metadata": {
    "deletable": false,
    "editable": false
   },
   "source": [
    "# 約維安計畫：第十三週\n",
    "\n",
    "> 函數與資料型別\n",
    "\n",
    "[數據交點](https://www.datainpoint.com/) | 郭耀仁 <yaojenkuo@datainpoint.com>"
   ]
  },
  {
   "cell_type": "markdown",
   "metadata": {
    "deletable": false,
    "editable": false
   },
   "source": [
    "## 練習題指引\n",
    "\n",
    "- 第一個程式碼儲存格會將可能用得到的模組（套件）以及單元測試 `unittest` 載入。\n",
    "- 如果練習題需要載入檔案，檔案與練習題存放在同個資料夾中，意即我們可以指定工作目錄來載入。\n",
    "- 練習題已經定義好函數或者類別的名稱以及參數名稱，我們只需要寫作主體。\n",
    "- 函數或者類別的 `\"\"\"docstring\"\"\"` 部分會描述測試如何進行。\n",
    "- 觀察 `\"\"\"docstring\"\"\"` 的部分能夠暸解輸入以及預期輸出之間的關係，能幫助我們更暸解題目。\n",
    "- 請在 `### BEGIN SOLUTION` 與 `### END SOLUTION` 這兩個單行註解之間寫作函數或者類別的主體。\n",
    "- 執行測試的方式為點選上方選單的 Kernel -> Restart Kernel And Run All Cells -> Restart。\n",
    "- 可以每寫一題就執行測試，也可以全部寫完再執行測試。\n",
    "- 練習題閒置超過 10 分鐘會自動斷線，這時只要重新點選練習題連結即可重新啟動。"
   ]
  },
  {
   "cell_type": "code",
   "execution_count": 1,
   "metadata": {
    "deletable": false,
    "editable": false
   },
   "outputs": [],
   "source": [
    "import unittest"
   ]
  },
  {
   "cell_type": "markdown",
   "metadata": {},
   "source": [
    "## 01. 自行定義函數 `get_my_favorite_zen_of_python` 回傳你最喜歡的一句 Python 禪學（The Zen of Python）。\n",
    "\n",
    "- 預期輸入：無。\n",
    "- 預期輸出：1 個文字。"
   ]
  },
  {
   "cell_type": "code",
   "execution_count": 2,
   "metadata": {},
   "outputs": [],
   "source": [
    "def get_my_favorite_zen_of_python():\n",
    "    \"\"\"\n",
    "    >>> get_my_favorite_zen_of_python()\n",
    "    \"Now is better than never.\"\n",
    "    \"\"\"\n",
    "    ### BEGIN SOLUTION\n",
    "    \n",
    "    ### END SOLUTION"
   ]
  },
  {
   "cell_type": "markdown",
   "metadata": {},
   "source": [
    "## 02. 自行定義函數 `calculate_movie_minutes(hours, mins)` 可以轉換電影的小時與分鐘為分鐘數。\n",
    "\n",
    "- 預期輸入：2 個整數。\n",
    "- 預期輸出：1 個整數。"
   ]
  },
  {
   "cell_type": "code",
   "execution_count": 3,
   "metadata": {},
   "outputs": [],
   "source": [
    "def calculate_movie_minutes(hours, mins):\n",
    "    \"\"\"\n",
    "    >>> calculate_movie_minutes(3, 1)  # Avengers: Endgame\n",
    "    181\n",
    "    >>> calculate_movie_minutes(2, 29) # Avengers: Infinity War\n",
    "    149\n",
    "    >>> calculate_movie_minutes(2, 21) # Avengers: Age of Ultron\n",
    "    141\n",
    "    >>> calculate_movie_minutes(2, 23) # The Avengers\n",
    "    143\n",
    "    \"\"\"\n",
    "    ### BEGIN SOLUTION\n",
    "    \n",
    "    ### END SOLUTION"
   ]
  },
  {
   "cell_type": "markdown",
   "metadata": {},
   "source": [
    "## 03. 自行定義函數 `fahrenheit_to_celsius(degree)` 可以轉換華氏溫度為攝氏溫度。\n",
    "\n",
    "\\begin{equation}\n",
    "Celsius(^{\\circ} C) = (Fahrenheit(^{\\circ} F) - 32) \\times \\frac{5}{9}\n",
    "\\end{equation}\n",
    "\n",
    "- 預期輸入：1 個數值。\n",
    "- 預期輸出：1 個數值。"
   ]
  },
  {
   "cell_type": "code",
   "execution_count": 4,
   "metadata": {},
   "outputs": [],
   "source": [
    "def fahrenheit_to_celsius(degree):\n",
    "    \"\"\"\n",
    "    >>> fahrenheit_to_celsius(212)\n",
    "    100.0\n",
    "    >>> fahrenheit_to_celsius(32)\n",
    "    0.0\n",
    "    \"\"\"\n",
    "    ### BEGIN SOLUTION\n",
    "    \n",
    "    ### END SOLUTION"
   ]
  },
  {
   "cell_type": "markdown",
   "metadata": {},
   "source": [
    "## 04. 自行定義函數 `fahrenheit_to_kelvin(degree)` 可以轉換華氏溫度為絕對溫度。\n",
    "\n",
    "\\begin{equation}\n",
    "Kelvin(K) = (Fahrenheit(^{\\circ} F) - 32) \\times \\frac{5}{9} + 273\n",
    "\\end{equation}\n",
    "\n",
    "- 預期輸入：1 個數值。\n",
    "- 預期輸出：1 個數值。"
   ]
  },
  {
   "cell_type": "code",
   "execution_count": 5,
   "metadata": {},
   "outputs": [],
   "source": [
    "def fahrenheit_to_kelvin(degree):\n",
    "    \"\"\"\n",
    "    >>> fahrenheit_to_kelvin(212)\n",
    "    373.0\n",
    "    >>> fahrenheit_to_kelvin(32)\n",
    "    273.0\n",
    "    \"\"\"\n",
    "    ### BEGIN SOLUTION\n",
    "    \n",
    "    ### END SOLUTION"
   ]
  },
  {
   "cell_type": "markdown",
   "metadata": {},
   "source": [
    "## 05. 自行定義函數 `calculate_bmi(height, weight)` 可以根據身高（公尺）與體重（公斤）計算身題質量指數 BMI。\n",
    "\n",
    "\\begin{equation}\n",
    "BMI = \\frac{weight_{kg}}{height_{m}^2}\n",
    "\\end{equation}\n",
    "\n",
    "- 預期輸入：2 個數值。\n",
    "- 預期輸出：1 個數值。"
   ]
  },
  {
   "cell_type": "code",
   "execution_count": 6,
   "metadata": {},
   "outputs": [],
   "source": [
    "def calculate_bmi(height, weight):\n",
    "    \"\"\"\n",
    "    >>> calculate_bmi(216, 147) # Shaquille O'Neal in his prime\n",
    "    31.507201646090532\n",
    "    >>> calculate_bmi(198, 129) # Zion Williamson \n",
    "    32.90480563207836\n",
    "    >>> calculate_bmi(206, 113) # LeBron James\n",
    "    26.628334433028563\n",
    "    >>> calculate_bmi(211, 110) # Giannis Antetokounmpo\n",
    "    24.70744143213315\n",
    "    >>> calculate_bmi(231, 91)  # Manute Bol\n",
    "    17.05365341728978\n",
    "    \"\"\"\n",
    "    ### BEGIN SOLUTION\n",
    "    \n",
    "    ### END SOLUTION"
   ]
  },
  {
   "cell_type": "markdown",
   "metadata": {},
   "source": [
    "## 06. 自行定義函數 `is_positive(x)` 判斷輸入是否為正整數。\n",
    "\n",
    "- 預期輸入：1 個整數。\n",
    "- 預期輸出：1 個布林。"
   ]
  },
  {
   "cell_type": "code",
   "execution_count": 7,
   "metadata": {},
   "outputs": [],
   "source": [
    "def is_positive(x):\n",
    "    \"\"\"\n",
    "    >>> is_positive(5566)\n",
    "    True\n",
    "    >>> is_positive(-5566)\n",
    "    False\n",
    "    >>> is_positive(0)\n",
    "    True\n",
    "    \"\"\"\n",
    "    ### BEGIN SOLUTION\n",
    "    \n",
    "    ### END SOLUTION"
   ]
  },
  {
   "cell_type": "markdown",
   "metadata": {},
   "source": [
    "## 07. 自行定義函數 `is_odd(x)` 判斷輸入是否為奇數。\n",
    "\n",
    "- 預期輸入：1 個整數。\n",
    "- 預期輸出：1 個布林。"
   ]
  },
  {
   "cell_type": "code",
   "execution_count": 8,
   "metadata": {},
   "outputs": [],
   "source": [
    "def is_odd(x):\n",
    "    \"\"\"\n",
    "    >>> is_odd(0)\n",
    "    False\n",
    "    >>> is_odd(1)\n",
    "    True\n",
    "    >>> is_odd(2)\n",
    "    False\n",
    "    >>> is_odd(3)\n",
    "    True\n",
    "    \"\"\"\n",
    "    ### BEGIN SOLUTION\n",
    "    \n",
    "    ### END SOLUTION"
   ]
  },
  {
   "cell_type": "markdown",
   "metadata": {},
   "source": [
    "## 08. 自行定義函數 `is_a_factor(x, y)` 判斷 x 是否是 y 的因數。\n",
    "\n",
    "- 預期輸入：2 個整數。\n",
    "- 預期輸出：1 個布林。"
   ]
  },
  {
   "cell_type": "code",
   "execution_count": 9,
   "metadata": {},
   "outputs": [],
   "source": [
    "def is_a_factor(x, y):\n",
    "    \"\"\"\n",
    "    >>> is_a_factor(1, 3)\n",
    "    True\n",
    "    >>> is_a_factor(2, 3)\n",
    "    False\n",
    "    >>> is_a_factor(3, 3)\n",
    "    True\n",
    "    >>> is_a_factor(1, 4)\n",
    "    True\n",
    "    >>> is_a_factor(2, 4)\n",
    "    True\n",
    "    >>> is_a_factor(3, 4)\n",
    "    False\n",
    "    >>> is_a_factor(4, 4)\n",
    "    True\n",
    "    \"\"\"\n",
    "    ### BEGIN SOLUTION\n",
    "    \n",
    "    ### END SOLUTION"
   ]
  },
  {
   "cell_type": "markdown",
   "metadata": {},
   "source": [
    "## 09. 自行定義函數 `is_a_none(x)` 判斷輸入是否為 `NoneType`。\n",
    "\n",
    "- 預期輸入：1 個未知的資料型別。\n",
    "- 預期輸出：1 個布林。"
   ]
  },
  {
   "cell_type": "code",
   "execution_count": 10,
   "metadata": {},
   "outputs": [],
   "source": [
    "def is_a_none(x):\n",
    "    \"\"\"\n",
    "    >>> is_a_none('None')\n",
    "    False\n",
    "    >>> is_a_none('')\n",
    "    False\n",
    "    >>> is_a_none(0)\n",
    "    False\n",
    "    >>> is_a_none(False)\n",
    "    False\n",
    "    >>> is_a_none(None)\n",
    "    True\n",
    "    \"\"\"\n",
    "    ### BEGIN SOLUTION\n",
    "    \n",
    "    ### END SOLUTION"
   ]
  },
  {
   "cell_type": "markdown",
   "metadata": {},
   "source": [
    "## 10. 自行定義函數 `is_a_bool(x)` 判斷輸入是否為 NoneType。\n",
    "\n",
    "- 預期輸入：1 個未知的資料型別。\n",
    "- 預期輸出：1 個布林。"
   ]
  },
  {
   "cell_type": "code",
   "execution_count": 11,
   "metadata": {},
   "outputs": [],
   "source": [
    "def is_a_bool(x):\n",
    "    \"\"\"\n",
    "    >>> is_a_bool('False')\n",
    "    False\n",
    "    >>> is_a_bool('True')\n",
    "    False\n",
    "    >>> is_a_bool(0)\n",
    "    False\n",
    "    >>> is_a_bool(1)\n",
    "    False\n",
    "    >>> is_a_bool(True)\n",
    "    True\n",
    "    >>> is_a_bool(False)\n",
    "    True\n",
    "    \"\"\"\n",
    "    ### BEGIN SOLUTION\n",
    "    \n",
    "    ### END SOLUTION"
   ]
  },
  {
   "cell_type": "markdown",
   "metadata": {},
   "source": [
    "## 11. 自行定義函數 `contains_vowels(x)` 判斷輸入文字是否包含小寫母音 a, e, i, o, u。\n",
    "\n",
    "- 預期輸入：1 個文字。\n",
    "- 預期輸出：1 個布林。"
   ]
  },
  {
   "cell_type": "code",
   "execution_count": 12,
   "metadata": {},
   "outputs": [],
   "source": [
    "def contains_vowels(x):\n",
    "    \"\"\"\n",
    "    >>> contains_vowels('pythn')\n",
    "    False\n",
    "    >>> contains_vowels('ncnd')\n",
    "    False\n",
    "    >>> contains_vowels('rtclt')\n",
    "    False\n",
    "    >>> contains_vowels('python')\n",
    "    True\n",
    "    >>> contains_vowels('anaconda')\n",
    "    True\n",
    "    >>> contains_vowels('reticulate')\n",
    "    True\n",
    "    \"\"\"\n",
    "    ### BEGIN SOLUTION\n",
    "    \n",
    "    ### END SOLUTION"
   ]
  },
  {
   "cell_type": "markdown",
   "metadata": {},
   "source": [
    "## 12. 自行定義函數 `contains_all_the_vowels(x)` 判斷輸入文字是否包含所有的小寫母音 a, e, i, o, u。\n",
    "\n",
    "- 預期輸入：1 個文字。\n",
    "- 預期輸出：1 個布林。"
   ]
  },
  {
   "cell_type": "code",
   "execution_count": 13,
   "metadata": {},
   "outputs": [],
   "source": [
    "def contains_all_the_vowels(x):\n",
    "    \"\"\"\n",
    "    >>> contains_all_the_vowels('python')\n",
    "    False\n",
    "    >>> contains_all_the_vowels('anaconda')\n",
    "    False\n",
    "    >>> contains_all_the_vowels('reticulate')\n",
    "    False\n",
    "    >>> contains_all_the_vowels('python anaconda')\n",
    "    False\n",
    "    >>> contains_all_the_vowels('anaconda reticulate')\n",
    "    True\n",
    "    \"\"\"\n",
    "    ### BEGIN SOLUTION\n",
    "    \n",
    "    ### END SOLUTION"
   ]
  },
  {
   "cell_type": "markdown",
   "metadata": {},
   "source": [
    "## 12. 自行定義函數 `big_mac_index()` 判斷輸入文字是否包含所有的小寫母音 a, e, i, o, u。\n",
    "\n",
    "- 預期輸入：2 個文字、1 個數值。\n",
    "- 預期輸出：1 個文字。"
   ]
  },
  {
   "cell_type": "code",
   "execution_count": 14,
   "metadata": {},
   "outputs": [],
   "source": [
    "def big_mac_index(country, currency, price):\n",
    "    \"\"\"\n",
    "    >>> big_mac_index('US', 'USD', 5.65)\n",
    "    A Big Mac costs 5.65 USD in US.\n",
    "    >>> big_mac_index('South Korea', 'Won', 6520)\n",
    "    A Big Mac costs 6,520.00 Won in South Korea.\n",
    "    >>> big_mac_index('Taiwan', 'NTD', 72)\n",
    "    A Big Mac costs 72.00 NTD in Taiwan.\n",
    "    \"\"\"\n",
    "    ### BEGIN SOLUTION\n",
    "    \n",
    "    ### END SOLUTION"
   ]
  },
  {
   "cell_type": "markdown",
   "metadata": {
    "deletable": false,
    "editable": false
   },
   "source": [
    "## 執行測試！\n",
    "\n",
    "Kernel -> Restart Kernel And Run All Cells -> Restart."
   ]
  },
  {
   "cell_type": "code",
   "execution_count": 15,
   "metadata": {
    "deletable": false,
    "editable": false
   },
   "outputs": [
    {
     "name": "stderr",
     "output_type": "stream",
     "text": [
      "test_01_get_my_favorite_zen_of_python (__main__.TestWeekThirteen) ... FAIL\n",
      "test_02_calculate_movie_minutes (__main__.TestWeekThirteen) ... FAIL\n",
      "test_03_fahrenheit_to_celsius (__main__.TestWeekThirteen) ... ERROR\n",
      "test_04_fahrenheit_to_kelvin (__main__.TestWeekThirteen) ... ERROR\n",
      "test_05_calculate_bmi (__main__.TestWeekThirteen) ... ERROR\n",
      "test_06_is_positive (__main__.TestWeekThirteen) ... FAIL\n",
      "test_07_is_odd (__main__.TestWeekThirteen) ... FAIL\n",
      "test_08_is_a_factor (__main__.TestWeekThirteen) ... FAIL\n",
      "test_09_is_a_none (__main__.TestWeekThirteen) ... FAIL\n",
      "test_10_is_a_bool (__main__.TestWeekThirteen) ... FAIL\n",
      "test_11_contains_vowels (__main__.TestWeekThirteen) ... FAIL\n",
      "test_12_contains_all_the_vowels (__main__.TestWeekThirteen) ... FAIL\n",
      "test_13_big_mac_index (__main__.TestWeekThirteen) ... FAIL\n",
      "\n",
      "======================================================================\n",
      "ERROR: test_03_fahrenheit_to_celsius (__main__.TestWeekThirteen)\n",
      "----------------------------------------------------------------------\n",
      "Traceback (most recent call last):\n",
      "  File \"<ipython-input-15-9317927cd3f1>\", line 15, in test_03_fahrenheit_to_celsius\n",
      "    self.assertAlmostEqual(fahrenheit_to_celsius(212), 100.0)\n",
      "  File \"/Users/kuoyaojen/opt/miniconda3/lib/python3.8/unittest/case.py\", line 943, in assertAlmostEqual\n",
      "    diff = abs(first - second)\n",
      "TypeError: unsupported operand type(s) for -: 'NoneType' and 'float'\n",
      "\n",
      "======================================================================\n",
      "ERROR: test_04_fahrenheit_to_kelvin (__main__.TestWeekThirteen)\n",
      "----------------------------------------------------------------------\n",
      "Traceback (most recent call last):\n",
      "  File \"<ipython-input-15-9317927cd3f1>\", line 18, in test_04_fahrenheit_to_kelvin\n",
      "    self.assertAlmostEqual(fahrenheit_to_kelvin(212), 373.0)\n",
      "  File \"/Users/kuoyaojen/opt/miniconda3/lib/python3.8/unittest/case.py\", line 943, in assertAlmostEqual\n",
      "    diff = abs(first - second)\n",
      "TypeError: unsupported operand type(s) for -: 'NoneType' and 'float'\n",
      "\n",
      "======================================================================\n",
      "ERROR: test_05_calculate_bmi (__main__.TestWeekThirteen)\n",
      "----------------------------------------------------------------------\n",
      "Traceback (most recent call last):\n",
      "  File \"<ipython-input-15-9317927cd3f1>\", line 21, in test_05_calculate_bmi\n",
      "    self.assertAlmostEqual(calculate_bmi(216, 147), 31.507201646090532)\n",
      "  File \"/Users/kuoyaojen/opt/miniconda3/lib/python3.8/unittest/case.py\", line 943, in assertAlmostEqual\n",
      "    diff = abs(first - second)\n",
      "TypeError: unsupported operand type(s) for -: 'NoneType' and 'float'\n",
      "\n",
      "======================================================================\n",
      "FAIL: test_01_get_my_favorite_zen_of_python (__main__.TestWeekThirteen)\n",
      "----------------------------------------------------------------------\n",
      "Traceback (most recent call last):\n",
      "  File \"<ipython-input-15-9317927cd3f1>\", line 4, in test_01_get_my_favorite_zen_of_python\n",
      "    self.assertIsInstance(my_favorite_zen_of_python, str)\n",
      "AssertionError: None is not an instance of <class 'str'>\n",
      "\n",
      "======================================================================\n",
      "FAIL: test_02_calculate_movie_minutes (__main__.TestWeekThirteen)\n",
      "----------------------------------------------------------------------\n",
      "Traceback (most recent call last):\n",
      "  File \"<ipython-input-15-9317927cd3f1>\", line 10, in test_02_calculate_movie_minutes\n",
      "    self.assertEqual(calculate_movie_minutes(3, 1), 181)\n",
      "AssertionError: None != 181\n",
      "\n",
      "======================================================================\n",
      "FAIL: test_06_is_positive (__main__.TestWeekThirteen)\n",
      "----------------------------------------------------------------------\n",
      "Traceback (most recent call last):\n",
      "  File \"<ipython-input-15-9317927cd3f1>\", line 27, in test_06_is_positive\n",
      "    self.assertTrue(is_positive(5566))\n",
      "AssertionError: None is not true\n",
      "\n",
      "======================================================================\n",
      "FAIL: test_07_is_odd (__main__.TestWeekThirteen)\n",
      "----------------------------------------------------------------------\n",
      "Traceback (most recent call last):\n",
      "  File \"<ipython-input-15-9317927cd3f1>\", line 32, in test_07_is_odd\n",
      "    self.assertTrue(is_odd(1))\n",
      "AssertionError: None is not true\n",
      "\n",
      "======================================================================\n",
      "FAIL: test_08_is_a_factor (__main__.TestWeekThirteen)\n",
      "----------------------------------------------------------------------\n",
      "Traceback (most recent call last):\n",
      "  File \"<ipython-input-15-9317927cd3f1>\", line 36, in test_08_is_a_factor\n",
      "    self.assertTrue(is_a_factor(1, 2))\n",
      "AssertionError: None is not true\n",
      "\n",
      "======================================================================\n",
      "FAIL: test_09_is_a_none (__main__.TestWeekThirteen)\n",
      "----------------------------------------------------------------------\n",
      "Traceback (most recent call last):\n",
      "  File \"<ipython-input-15-9317927cd3f1>\", line 49, in test_09_is_a_none\n",
      "    self.assertTrue(is_a_none(None))\n",
      "AssertionError: None is not true\n",
      "\n",
      "======================================================================\n",
      "FAIL: test_10_is_a_bool (__main__.TestWeekThirteen)\n",
      "----------------------------------------------------------------------\n",
      "Traceback (most recent call last):\n",
      "  File \"<ipython-input-15-9317927cd3f1>\", line 55, in test_10_is_a_bool\n",
      "    self.assertTrue(is_a_bool(True))\n",
      "AssertionError: None is not true\n",
      "\n",
      "======================================================================\n",
      "FAIL: test_11_contains_vowels (__main__.TestWeekThirteen)\n",
      "----------------------------------------------------------------------\n",
      "Traceback (most recent call last):\n",
      "  File \"<ipython-input-15-9317927cd3f1>\", line 61, in test_11_contains_vowels\n",
      "    self.assertTrue(contains_vowels('python'))\n",
      "AssertionError: None is not true\n",
      "\n",
      "======================================================================\n",
      "FAIL: test_12_contains_all_the_vowels (__main__.TestWeekThirteen)\n",
      "----------------------------------------------------------------------\n",
      "Traceback (most recent call last):\n",
      "  File \"<ipython-input-15-9317927cd3f1>\", line 69, in test_12_contains_all_the_vowels\n",
      "    self.assertTrue(contains_all_the_vowels('anaconda reticulate'))\n",
      "AssertionError: None is not true\n",
      "\n",
      "======================================================================\n",
      "FAIL: test_13_big_mac_index (__main__.TestWeekThirteen)\n",
      "----------------------------------------------------------------------\n",
      "Traceback (most recent call last):\n",
      "  File \"<ipython-input-15-9317927cd3f1>\", line 71, in test_13_big_mac_index\n",
      "    self.assertEqual(big_mac_index('US', 'USD', 5.65), 'A Big Mac costs 5.65 USD in US.')\n",
      "AssertionError: None != 'A Big Mac costs 5.65 USD in US.'\n",
      "\n",
      "----------------------------------------------------------------------\n",
      "Ran 13 tests in 0.037s\n",
      "\n",
      "FAILED (failures=10, errors=3)\n"
     ]
    }
   ],
   "source": [
    "class TestWeekThirteen(unittest.TestCase):\n",
    "    def test_01_get_my_favorite_zen_of_python(self):\n",
    "        my_favorite_zen_of_python = get_my_favorite_zen_of_python()\n",
    "        self.assertIsInstance(my_favorite_zen_of_python, str)\n",
    "        with open('zen_of_python.txt', 'r') as f:\n",
    "            zen_of_py = f.readlines()\n",
    "        zen_of_py = [s.strip() for s in zen_of_py]\n",
    "        self.assertTrue(my_favorite_zen_of_python in zen_of_py)\n",
    "    def test_02_calculate_movie_minutes(self):\n",
    "        self.assertEqual(calculate_movie_minutes(3, 1), 181)\n",
    "        self.assertEqual(calculate_movie_minutes(2, 29), 149)\n",
    "        self.assertEqual(calculate_movie_minutes(2, 21), 141)\n",
    "        self.assertEqual(calculate_movie_minutes(2, 23), 143)\n",
    "    def test_03_fahrenheit_to_celsius(self):\n",
    "        self.assertAlmostEqual(fahrenheit_to_celsius(212), 100.0)\n",
    "        self.assertAlmostEqual(fahrenheit_to_celsius(32), 0.0)\n",
    "    def test_04_fahrenheit_to_kelvin(self):\n",
    "        self.assertAlmostEqual(fahrenheit_to_kelvin(212), 373.0)\n",
    "        self.assertAlmostEqual(fahrenheit_to_kelvin(32), 273.0)\n",
    "    def test_05_calculate_bmi(self):\n",
    "        self.assertAlmostEqual(calculate_bmi(216, 147), 31.507201646090532)\n",
    "        self.assertAlmostEqual(calculate_bmi(198, 129), 32.90480563207836)\n",
    "        self.assertAlmostEqual(calculate_bmi(206, 113), 26.628334433028563)\n",
    "        self.assertAlmostEqual(calculate_bmi(211, 110), 24.70744143213315)\n",
    "        self.assertAlmostEqual(calculate_bmi(231, 91), 17.05365341728978)\n",
    "    def test_06_is_positive(self):\n",
    "        self.assertTrue(is_positive(5566))\n",
    "        self.assertFalse(is_positive(-5566))\n",
    "        self.assertTrue(is_positive(0))\n",
    "    def test_07_is_odd(self):\n",
    "        self.assertFalse(is_odd(0))\n",
    "        self.assertTrue(is_odd(1))\n",
    "        self.assertFalse(is_odd(2))\n",
    "        self.assertTrue(is_odd(3))\n",
    "    def test_08_is_a_factor(self):\n",
    "        self.assertTrue(is_a_factor(1, 2))\n",
    "        self.assertTrue(is_a_factor(2, 2))\n",
    "        self.assertTrue(is_a_factor(1, 3))\n",
    "        self.assertFalse(is_a_factor(2, 3))\n",
    "        self.assertTrue(is_a_factor(1, 4))\n",
    "        self.assertTrue(is_a_factor(2, 4))\n",
    "        self.assertFalse(is_a_factor(3, 4))\n",
    "        self.assertTrue(is_a_factor(4, 4))\n",
    "    def test_09_is_a_none(self):\n",
    "        self.assertFalse(is_a_none('None'))\n",
    "        self.assertFalse(is_a_none(''))\n",
    "        self.assertFalse(is_a_none(0))\n",
    "        self.assertFalse(is_a_none(False))\n",
    "        self.assertTrue(is_a_none(None))\n",
    "    def test_10_is_a_bool(self):\n",
    "        self.assertFalse(is_a_bool('False'))\n",
    "        self.assertFalse(is_a_bool('True'))\n",
    "        self.assertFalse(is_a_bool(0))\n",
    "        self.assertFalse(is_a_bool(1))\n",
    "        self.assertTrue(is_a_bool(True))\n",
    "        self.assertTrue(is_a_bool(False))\n",
    "    def test_11_contains_vowels(self):\n",
    "        self.assertFalse(contains_vowels('pythn'))\n",
    "        self.assertFalse(contains_vowels('ncnd'))\n",
    "        self.assertFalse(contains_vowels('rtclt'))\n",
    "        self.assertTrue(contains_vowels('python'))\n",
    "        self.assertTrue(contains_vowels('anaconda'))\n",
    "        self.assertTrue(contains_vowels('reticulate'))\n",
    "    def test_12_contains_all_the_vowels(self):\n",
    "        self.assertFalse(contains_all_the_vowels('python'))\n",
    "        self.assertFalse(contains_all_the_vowels('anaconda'))\n",
    "        self.assertFalse(contains_all_the_vowels('reticulate'))\n",
    "        self.assertFalse(contains_all_the_vowels('python anaconda'))\n",
    "        self.assertTrue(contains_all_the_vowels('anaconda reticulate'))\n",
    "    def test_13_big_mac_index(self):\n",
    "        self.assertEqual(big_mac_index('US', 'USD', 5.65), 'A Big Mac costs 5.65 USD in US.')\n",
    "        self.assertEqual(big_mac_index('South Korea', 'Won', 6520), 'A Big Mac costs 6,520.00 Won in South Korea.')\n",
    "        self.assertEqual(big_mac_index('Taiwan', 'NTD', 72), 'A Big Mac costs 72.00 NTD in Taiwan.')\n",
    "\n",
    "suite = unittest.TestLoader().loadTestsFromTestCase(TestWeekThirteen)\n",
    "runner = unittest.TextTestRunner(verbosity=2)\n",
    "test_results = runner.run(suite)\n",
    "number_of_failures = len(test_results.failures)\n",
    "number_of_errors = len(test_results.errors)\n",
    "number_of_test_runs = test_results.testsRun\n",
    "number_of_successes = number_of_test_runs - (number_of_failures + number_of_errors)"
   ]
  },
  {
   "cell_type": "code",
   "execution_count": 16,
   "metadata": {
    "deletable": false,
    "editable": false
   },
   "outputs": [
    {
     "name": "stdout",
     "output_type": "stream",
     "text": [
      "您在 13 道 Python 練習答對了 0 題。\n"
     ]
    }
   ],
   "source": [
    "print(\"您在 {} 道 Python 練習答對了 {} 題。\".format(number_of_test_runs, number_of_successes))"
   ]
  }
 ],
 "metadata": {
  "kernelspec": {
   "display_name": "Python 3",
   "language": "python",
   "name": "python3"
  },
  "language_info": {
   "codemirror_mode": {
    "name": "ipython",
    "version": 3
   },
   "file_extension": ".py",
   "mimetype": "text/x-python",
   "name": "python",
   "nbconvert_exporter": "python",
   "pygments_lexer": "ipython3",
   "version": "3.8.5"
  }
 },
 "nbformat": 4,
 "nbformat_minor": 4
}
